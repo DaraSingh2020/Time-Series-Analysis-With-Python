{
 "cells": [
  {
   "cell_type": "code",
   "execution_count": 1,
   "id": "d27c4a35",
   "metadata": {
    "scrolled": true
   },
   "outputs": [
    {
     "name": "stderr",
     "output_type": "stream",
     "text": [
      "Importing plotly failed. Interactive plots will not work.\n"
     ]
    }
   ],
   "source": [
    "import fbprophet"
   ]
  },
  {
   "cell_type": "code",
   "execution_count": 2,
   "id": "9ee7e957",
   "metadata": {},
   "outputs": [
    {
     "name": "stdout",
     "output_type": "stream",
     "text": [
      "Prophet 0.7.1\n"
     ]
    }
   ],
   "source": [
    "print('Prophet %s' %fbprophet.__version__)"
   ]
  },
  {
   "cell_type": "code",
   "execution_count": 3,
   "id": "159cc628",
   "metadata": {},
   "outputs": [],
   "source": [
    "import pandas as pd"
   ]
  },
  {
   "cell_type": "code",
   "execution_count": 4,
   "id": "adb428cb",
   "metadata": {},
   "outputs": [],
   "source": [
    "path='https://raw.githubusercontent.com/jbrownlee/Datasets/master/monthly-car-sales.csv'"
   ]
  },
  {
   "cell_type": "code",
   "execution_count": 5,
   "id": "c0515d22",
   "metadata": {},
   "outputs": [],
   "source": [
    "carSales=pd.read_csv(path)"
   ]
  },
  {
   "cell_type": "code",
   "execution_count": 6,
   "id": "1a527332",
   "metadata": {},
   "outputs": [
    {
     "data": {
      "text/html": [
       "<div>\n",
       "<style scoped>\n",
       "    .dataframe tbody tr th:only-of-type {\n",
       "        vertical-align: middle;\n",
       "    }\n",
       "\n",
       "    .dataframe tbody tr th {\n",
       "        vertical-align: top;\n",
       "    }\n",
       "\n",
       "    .dataframe thead th {\n",
       "        text-align: right;\n",
       "    }\n",
       "</style>\n",
       "<table border=\"1\" class=\"dataframe\">\n",
       "  <thead>\n",
       "    <tr style=\"text-align: right;\">\n",
       "      <th></th>\n",
       "      <th>Month</th>\n",
       "      <th>Sales</th>\n",
       "    </tr>\n",
       "  </thead>\n",
       "  <tbody>\n",
       "    <tr>\n",
       "      <th>0</th>\n",
       "      <td>1960-01</td>\n",
       "      <td>6550</td>\n",
       "    </tr>\n",
       "    <tr>\n",
       "      <th>1</th>\n",
       "      <td>1960-02</td>\n",
       "      <td>8728</td>\n",
       "    </tr>\n",
       "    <tr>\n",
       "      <th>2</th>\n",
       "      <td>1960-03</td>\n",
       "      <td>12026</td>\n",
       "    </tr>\n",
       "    <tr>\n",
       "      <th>3</th>\n",
       "      <td>1960-04</td>\n",
       "      <td>14395</td>\n",
       "    </tr>\n",
       "    <tr>\n",
       "      <th>4</th>\n",
       "      <td>1960-05</td>\n",
       "      <td>14587</td>\n",
       "    </tr>\n",
       "    <tr>\n",
       "      <th>5</th>\n",
       "      <td>1960-06</td>\n",
       "      <td>13791</td>\n",
       "    </tr>\n",
       "    <tr>\n",
       "      <th>6</th>\n",
       "      <td>1960-07</td>\n",
       "      <td>9498</td>\n",
       "    </tr>\n",
       "    <tr>\n",
       "      <th>7</th>\n",
       "      <td>1960-08</td>\n",
       "      <td>8251</td>\n",
       "    </tr>\n",
       "    <tr>\n",
       "      <th>8</th>\n",
       "      <td>1960-09</td>\n",
       "      <td>7049</td>\n",
       "    </tr>\n",
       "    <tr>\n",
       "      <th>9</th>\n",
       "      <td>1960-10</td>\n",
       "      <td>9545</td>\n",
       "    </tr>\n",
       "  </tbody>\n",
       "</table>\n",
       "</div>"
      ],
      "text/plain": [
       "     Month  Sales\n",
       "0  1960-01   6550\n",
       "1  1960-02   8728\n",
       "2  1960-03  12026\n",
       "3  1960-04  14395\n",
       "4  1960-05  14587\n",
       "5  1960-06  13791\n",
       "6  1960-07   9498\n",
       "7  1960-08   8251\n",
       "8  1960-09   7049\n",
       "9  1960-10   9545"
      ]
     },
     "execution_count": 6,
     "metadata": {},
     "output_type": "execute_result"
    }
   ],
   "source": [
    "carSales.head(10)"
   ]
  },
  {
   "cell_type": "code",
   "execution_count": 8,
   "id": "41263d9e",
   "metadata": {},
   "outputs": [
    {
     "data": {
      "text/plain": [
       "(108, 2)"
      ]
     },
     "execution_count": 8,
     "metadata": {},
     "output_type": "execute_result"
    }
   ],
   "source": [
    "carSales.shape"
   ]
  },
  {
   "cell_type": "code",
   "execution_count": 9,
   "id": "48abe448",
   "metadata": {},
   "outputs": [],
   "source": [
    "import matplotlib.pyplot as plt"
   ]
  },
  {
   "cell_type": "code",
   "execution_count": 14,
   "id": "468864ea",
   "metadata": {},
   "outputs": [
    {
     "data": {
      "image/png": "[encoded data removed]",
      "text/plain": [
       "<Figure size 432x288 with 1 Axes>"
      ]
     },
     "metadata": {
      "needs_background": "light"
     },
     "output_type": "display_data"
    }
   ],
   "source": [
    "carSales.plot()\n",
    "plt.show()"
   ]
  },
  {
   "cell_type": "code",
   "execution_count": 15,
   "id": "21b71084",
   "metadata": {},
   "outputs": [],
   "source": [
    "carSales.columns=['ds', 'y']"
   ]
  },
  {
   "cell_type": "code",
   "execution_count": 19,
   "id": "bb4a72e8",
   "metadata": {},
   "outputs": [],
   "source": [
    "carSales['ds']=pd.to_datetime(carSales['ds'])"
   ]
  },
  {
   "cell_type": "code",
   "execution_count": 20,
   "id": "344ae674",
   "metadata": {},
   "outputs": [
    {
     "data": {
      "text/html": [
       "<div>\n",
       "<style scoped>\n",
       "    .dataframe tbody tr th:only-of-type {\n",
       "        vertical-align: middle;\n",
       "    }\n",
       "\n",
       "    .dataframe tbody tr th {\n",
       "        vertical-align: top;\n",
       "    }\n",
       "\n",
       "    .dataframe thead th {\n",
       "        text-align: right;\n",
       "    }\n",
       "</style>\n",
       "<table border=\"1\" class=\"dataframe\">\n",
       "  <thead>\n",
       "    <tr style=\"text-align: right;\">\n",
       "      <th></th>\n",
       "      <th>ds</th>\n",
       "      <th>y</th>\n",
       "    </tr>\n",
       "  </thead>\n",
       "  <tbody>\n",
       "    <tr>\n",
       "      <th>0</th>\n",
       "      <td>1960-01-01</td>\n",
       "      <td>6550</td>\n",
       "    </tr>\n",
       "    <tr>\n",
       "      <th>1</th>\n",
       "      <td>1960-02-01</td>\n",
       "      <td>8728</td>\n",
       "    </tr>\n",
       "    <tr>\n",
       "      <th>2</th>\n",
       "      <td>1960-03-01</td>\n",
       "      <td>12026</td>\n",
       "    </tr>\n",
       "    <tr>\n",
       "      <th>3</th>\n",
       "      <td>1960-04-01</td>\n",
       "      <td>14395</td>\n",
       "    </tr>\n",
       "    <tr>\n",
       "      <th>4</th>\n",
       "      <td>1960-05-01</td>\n",
       "      <td>14587</td>\n",
       "    </tr>\n",
       "    <tr>\n",
       "      <th>5</th>\n",
       "      <td>1960-06-01</td>\n",
       "      <td>13791</td>\n",
       "    </tr>\n",
       "    <tr>\n",
       "      <th>6</th>\n",
       "      <td>1960-07-01</td>\n",
       "      <td>9498</td>\n",
       "    </tr>\n",
       "    <tr>\n",
       "      <th>7</th>\n",
       "      <td>1960-08-01</td>\n",
       "      <td>8251</td>\n",
       "    </tr>\n",
       "    <tr>\n",
       "      <th>8</th>\n",
       "      <td>1960-09-01</td>\n",
       "      <td>7049</td>\n",
       "    </tr>\n",
       "    <tr>\n",
       "      <th>9</th>\n",
       "      <td>1960-10-01</td>\n",
       "      <td>9545</td>\n",
       "    </tr>\n",
       "  </tbody>\n",
       "</table>\n",
       "</div>"
      ],
      "text/plain": [
       "          ds      y\n",
       "0 1960-01-01   6550\n",
       "1 1960-02-01   8728\n",
       "2 1960-03-01  12026\n",
       "3 1960-04-01  14395\n",
       "4 1960-05-01  14587\n",
       "5 1960-06-01  13791\n",
       "6 1960-07-01   9498\n",
       "7 1960-08-01   8251\n",
       "8 1960-09-01   7049\n",
       "9 1960-10-01   9545"
      ]
     },
     "execution_count": 20,
     "metadata": {},
     "output_type": "execute_result"
    }
   ],
   "source": [
    "carSales.head(10)"
   ]
  },
  {
   "cell_type": "code",
   "execution_count": 25,
   "id": "fb215fa7",
   "metadata": {},
   "outputs": [],
   "source": [
    "from fbprophet import Prophet  #import fbprophet.Prophet as P does not work. Why?"
   ]
  },
  {
   "cell_type": "code",
   "execution_count": 27,
   "id": "055e44d2",
   "metadata": {
    "scrolled": true
   },
   "outputs": [
    {
     "name": "stderr",
     "output_type": "stream",
     "text": [
      "<frozen importlib._bootstrap>:219: RuntimeWarning: scipy._lib.messagestream.MessageStream size changed, may indicate binary incompatibility. Expected 56 from C header, got 64 from PyObject\n"
     ]
    }
   ],
   "source": [
    "model=Prophet()"
   ]
  },
  {
   "cell_type": "code",
   "execution_count": 28,
   "id": "22d61f25",
   "metadata": {},
   "outputs": [
    {
     "name": "stderr",
     "output_type": "stream",
     "text": [
      "INFO:fbprophet:Disabling weekly seasonality. Run prophet with weekly_seasonality=True to override this.\n",
      "INFO:fbprophet:Disabling daily seasonality. Run prophet with daily_seasonality=True to override this.\n",
      "C:\\Users\\dsi224\\.conda\\envs\\pytorchenv\\lib\\site-packages\\fbprophet\\forecaster.py:891: FutureWarning: The frame.append method is deprecated and will be removed from pandas in a future version. Use pandas.concat instead.\n",
      "  components = components.append(new_comp)\n"
     ]
    },
    {
     "data": {
      "text/plain": [
       "<fbprophet.forecaster.Prophet at 0x22c42c950d0>"
      ]
     },
     "execution_count": 28,
     "metadata": {},
     "output_type": "execute_result"
    }
   ],
   "source": [
    "model.fit(carSales)"
   ]
  },
  {
   "cell_type": "code",
   "execution_count": 29,
   "id": "e6608876",
   "metadata": {},
   "outputs": [],
   "source": [
    "# Make an In-Sample Forecast  #"
   ]
  },
  {
   "cell_type": "code",
   "execution_count": 33,
   "id": "edd97dbe",
   "metadata": {},
   "outputs": [
    {
     "name": "stdout",
     "output_type": "stream",
     "text": [
      "[['1968-01'], ['1968-02'], ['1968-03'], ['1968-04'], ['1968-05'], ['1968-06'], ['1968-07'], ['1968-08'], ['1968-09'], ['1968-10'], ['1968-11'], ['1968-12']]\n"
     ]
    }
   ],
   "source": [
    "# define the period for which we want a prediction\n",
    "future = list()\n",
    "for i in range(1, 13):\n",
    "    date = '1968-%02d' % i\n",
    "    future.append([date])\n",
    "    \n",
    "print(future)"
   ]
  },
  {
   "cell_type": "code",
   "execution_count": 36,
   "id": "6349a551",
   "metadata": {},
   "outputs": [],
   "source": [
    "future = pd.DataFrame(future)\n",
    "future.columns = ['ds']\n",
    "future['ds']= pd.to_datetime(future['ds'])"
   ]
  },
  {
   "cell_type": "code",
   "execution_count": 37,
   "id": "7b8327e3",
   "metadata": {},
   "outputs": [
    {
     "name": "stderr",
     "output_type": "stream",
     "text": [
      "C:\\Users\\dsi224\\.conda\\envs\\pytorchenv\\lib\\site-packages\\fbprophet\\forecaster.py:891: FutureWarning: The frame.append method is deprecated and will be removed from pandas in a future version. Use pandas.concat instead.\n",
      "  components = components.append(new_comp)\n",
      "C:\\Users\\dsi224\\.conda\\envs\\pytorchenv\\lib\\site-packages\\fbprophet\\forecaster.py:891: FutureWarning: The frame.append method is deprecated and will be removed from pandas in a future version. Use pandas.concat instead.\n",
      "  components = components.append(new_comp)\n"
     ]
    }
   ],
   "source": [
    "# use the model to make a forecast\n",
    "forecast = model.predict(future)"
   ]
  },
  {
   "cell_type": "code",
   "execution_count": 45,
   "id": "fdebe0f1",
   "metadata": {
    "scrolled": true
   },
   "outputs": [
    {
     "name": "stdout",
     "output_type": "stream",
     "text": [
      "forecaste shape is: (12, 16) \n",
      "\n",
      "           ds         trend    yhat_lower    yhat_upper   trend_lower  \\\n",
      "0  1968-01-01  17808.744843  12760.867095  15910.649313  17808.744843   \n",
      "1  1968-02-01  17864.170853  13188.114019  16413.954019  17864.170853   \n",
      "2  1968-03-01  17916.020991  19262.834302  22409.265052  17916.020991   \n",
      "3  1968-04-01  17971.447001  21272.534687  24362.881094  17971.447001   \n",
      "4  1968-05-01  18025.085075  22508.545196  25692.517297  18025.085075   \n",
      "5  1968-06-01  18080.511085  19463.937787  22702.548900  18080.511085   \n",
      "6  1968-07-01  18134.149159  16067.278721  19204.426859  18134.149159   \n",
      "7  1968-08-01  18189.575169  13718.864898  16900.841841  18189.575169   \n",
      "8  1968-09-01  18245.001179  12145.087143  15310.960921  18245.001179   \n",
      "9  1968-10-01  18298.639253  16601.194487  19826.266567  18298.639253   \n",
      "10 1968-11-01  18354.065263  15895.516720  19143.839566  18354.065263   \n",
      "11 1968-12-01  18407.703337  14224.141007  17217.824793  18407.703337   \n",
      "\n",
      "     trend_upper  additive_terms  additive_terms_lower  additive_terms_upper  \\\n",
      "0   17808.744843    -3464.315527          -3464.315527          -3464.315527   \n",
      "1   17864.170853    -2952.452083          -2952.452083          -2952.452083   \n",
      "2   17916.020991     2943.121970           2943.121970           2943.121970   \n",
      "3   17971.447001     4911.905978           4911.905978           4911.905978   \n",
      "4   18025.085075     6158.054189           6158.054189           6158.054189   \n",
      "5   18080.511085     2970.834965           2970.834965           2970.834965   \n",
      "6   18134.149159     -521.875166           -521.875166           -521.875166   \n",
      "7   18189.575169    -2875.677231          -2875.677231          -2875.677231   \n",
      "8   18245.001179    -4497.670917          -4497.670917          -4497.670917   \n",
      "9   18298.639253     -139.502710           -139.502710           -139.502710   \n",
      "10  18354.065263     -921.244829           -921.244829           -921.244829   \n",
      "11  18407.703337    -2741.067441          -2741.067441          -2741.067441   \n",
      "\n",
      "         yearly  yearly_lower  yearly_upper  multiplicative_terms  \\\n",
      "0  -3464.315527  -3464.315527  -3464.315527                   0.0   \n",
      "1  -2952.452083  -2952.452083  -2952.452083                   0.0   \n",
      "2   2943.121970   2943.121970   2943.121970                   0.0   \n",
      "3   4911.905978   4911.905978   4911.905978                   0.0   \n",
      "4   6158.054189   6158.054189   6158.054189                   0.0   \n",
      "5   2970.834965   2970.834965   2970.834965                   0.0   \n",
      "6   -521.875166   -521.875166   -521.875166                   0.0   \n",
      "7  -2875.677231  -2875.677231  -2875.677231                   0.0   \n",
      "8  -4497.670917  -4497.670917  -4497.670917                   0.0   \n",
      "9   -139.502710   -139.502710   -139.502710                   0.0   \n",
      "10  -921.244829   -921.244829   -921.244829                   0.0   \n",
      "11 -2741.067441  -2741.067441  -2741.067441                   0.0   \n",
      "\n",
      "    multiplicative_terms_lower  multiplicative_terms_upper          yhat  \n",
      "0                          0.0                         0.0  14344.429315  \n",
      "1                          0.0                         0.0  14911.718770  \n",
      "2                          0.0                         0.0  20859.142961  \n",
      "3                          0.0                         0.0  22883.352978  \n",
      "4                          0.0                         0.0  24183.139264  \n",
      "5                          0.0                         0.0  21051.346050  \n",
      "6                          0.0                         0.0  17612.273993  \n",
      "7                          0.0                         0.0  15313.897937  \n",
      "8                          0.0                         0.0  13747.330262  \n",
      "9                          0.0                         0.0  18159.136542  \n",
      "10                         0.0                         0.0  17432.820434  \n",
      "11                         0.0                         0.0  15666.635895  \n"
     ]
    }
   ],
   "source": [
    "print('forecaste shape is:',forecast.shape,'\\n')\n",
    "print(forecast)"
   ]
  },
  {
   "cell_type": "code",
   "execution_count": 46,
   "id": "76558d23",
   "metadata": {},
   "outputs": [
    {
     "name": "stdout",
     "output_type": "stream",
     "text": [
      "          ds          yhat    yhat_lower    yhat_upper\n",
      "0 1968-01-01  14344.429315  12760.867095  15910.649313\n",
      "1 1968-02-01  14911.718770  13188.114019  16413.954019\n",
      "2 1968-03-01  20859.142961  19262.834302  22409.265052\n",
      "3 1968-04-01  22883.352978  21272.534687  24362.881094\n",
      "4 1968-05-01  24183.139264  22508.545196  25692.517297\n"
     ]
    }
   ],
   "source": [
    "print(forecast[['ds', 'yhat', 'yhat_lower', 'yhat_upper']].head())"
   ]
  },
  {
   "cell_type": "code",
   "execution_count": 48,
   "id": "e52c5456",
   "metadata": {
    "scrolled": false
   },
   "outputs": [
    {
     "data": {
      "image/png": "[encoded data removed]",
      "text/plain": [
       "<Figure size 720x432 with 1 Axes>"
      ]
     },
     "metadata": {},
     "output_type": "display_data"
    }
   ],
   "source": [
    "# plot forecast\n",
    "model.plot(forecast)\n",
    "plt.show()"
   ]
  },
  {
   "cell_type": "code",
   "execution_count": 49,
   "id": "5dd0af8b",
   "metadata": {},
   "outputs": [],
   "source": [
    "# Make an Out-of-Sample Forecast"
   ]
  },
  {
   "cell_type": "code",
   "execution_count": 51,
   "id": "92d7c890",
   "metadata": {},
   "outputs": [],
   "source": [
    "# define the period for which we want a prediction\n",
    "future = list()\n",
    "for i in range(1, 13):\n",
    "    date = '1969-%02d' % i\n",
    "    future.append([date])\n",
    "future = pd.DataFrame(future)\n",
    "future.columns = ['ds']\n",
    "future['ds']= pd.to_datetime(future['ds'])"
   ]
  },
  {
   "cell_type": "code",
   "execution_count": 52,
   "id": "0af140cf",
   "metadata": {},
   "outputs": [
    {
     "name": "stderr",
     "output_type": "stream",
     "text": [
      "C:\\Users\\dsi224\\.conda\\envs\\pytorchenv\\lib\\site-packages\\fbprophet\\forecaster.py:891: FutureWarning: The frame.append method is deprecated and will be removed from pandas in a future version. Use pandas.concat instead.\n",
      "  components = components.append(new_comp)\n",
      "C:\\Users\\dsi224\\.conda\\envs\\pytorchenv\\lib\\site-packages\\fbprophet\\forecaster.py:891: FutureWarning: The frame.append method is deprecated and will be removed from pandas in a future version. Use pandas.concat instead.\n",
      "  components = components.append(new_comp)\n"
     ]
    }
   ],
   "source": [
    "# use the model to make a forecast\n",
    "forecast = model.predict(future)"
   ]
  },
  {
   "cell_type": "code",
   "execution_count": 53,
   "id": "3c91237d",
   "metadata": {},
   "outputs": [
    {
     "name": "stdout",
     "output_type": "stream",
     "text": [
      "          ds          yhat    yhat_lower    yhat_upper\n",
      "0 1969-01-01  15396.026630  13777.920693  16911.508595\n",
      "1 1969-02-01  16165.838547  14626.460035  17733.388089\n",
      "2 1969-03-01  21369.121163  19832.546881  22752.407183\n",
      "3 1969-04-01  23494.793981  21901.292359  25083.868634\n",
      "4 1969-05-01  25004.900023  23314.624831  26466.003604\n"
     ]
    }
   ],
   "source": [
    "# summarize the forecast\n",
    "print(forecast[['ds', 'yhat', 'yhat_lower', 'yhat_upper']].head())"
   ]
  },
  {
   "cell_type": "code",
   "execution_count": 54,
   "id": "e927a811",
   "metadata": {},
   "outputs": [
    {
     "data": {
      "image/png": "[encoded data removed]",
      "text/plain": [
       "<Figure size 720x432 with 1 Axes>"
      ]
     },
     "metadata": {},
     "output_type": "display_data"
    }
   ],
   "source": [
    "# plot forecast\n",
    "model.plot(forecast)\n",
    "plt.show()"
   ]
  },
  {
   "cell_type": "code",
   "execution_count": 55,
   "id": "5df95101",
   "metadata": {},
   "outputs": [],
   "source": [
    "# Manually Evaluate Forecast Model\n",
    "# This is same as holding some of the data from the end for predictions."
   ]
  },
  {
   "cell_type": "code",
   "execution_count": 56,
   "id": "4dee711b",
   "metadata": {},
   "outputs": [
    {
     "name": "stdout",
     "output_type": "stream",
     "text": [
      "           ds      y\n",
      "91 1967-08-01  13434\n",
      "92 1967-09-01  13598\n",
      "93 1967-10-01  17187\n",
      "94 1967-11-01  16119\n",
      "95 1967-12-01  13713\n"
     ]
    }
   ],
   "source": [
    "# create test dataset, remove last 12 months\n",
    "carSales_train = carSales.drop(carSales.index[-12:])\n",
    "print(carSales_train.tail())"
   ]
  },
  {
   "cell_type": "code",
   "execution_count": 57,
   "id": "5adbe7dc",
   "metadata": {
    "scrolled": true
   },
   "outputs": [
    {
     "data": {
      "text/html": [
       "<div>\n",
       "<style scoped>\n",
       "    .dataframe tbody tr th:only-of-type {\n",
       "        vertical-align: middle;\n",
       "    }\n",
       "\n",
       "    .dataframe tbody tr th {\n",
       "        vertical-align: top;\n",
       "    }\n",
       "\n",
       "    .dataframe thead th {\n",
       "        text-align: right;\n",
       "    }\n",
       "</style>\n",
       "<table border=\"1\" class=\"dataframe\">\n",
       "  <thead>\n",
       "    <tr style=\"text-align: right;\">\n",
       "      <th></th>\n",
       "      <th>ds</th>\n",
       "      <th>y</th>\n",
       "    </tr>\n",
       "  </thead>\n",
       "  <tbody>\n",
       "    <tr>\n",
       "      <th>103</th>\n",
       "      <td>1968-08-01</td>\n",
       "      <td>16722</td>\n",
       "    </tr>\n",
       "    <tr>\n",
       "      <th>104</th>\n",
       "      <td>1968-09-01</td>\n",
       "      <td>14385</td>\n",
       "    </tr>\n",
       "    <tr>\n",
       "      <th>105</th>\n",
       "      <td>1968-10-01</td>\n",
       "      <td>21342</td>\n",
       "    </tr>\n",
       "    <tr>\n",
       "      <th>106</th>\n",
       "      <td>1968-11-01</td>\n",
       "      <td>17180</td>\n",
       "    </tr>\n",
       "    <tr>\n",
       "      <th>107</th>\n",
       "      <td>1968-12-01</td>\n",
       "      <td>14577</td>\n",
       "    </tr>\n",
       "  </tbody>\n",
       "</table>\n",
       "</div>"
      ],
      "text/plain": [
       "            ds      y\n",
       "103 1968-08-01  16722\n",
       "104 1968-09-01  14385\n",
       "105 1968-10-01  21342\n",
       "106 1968-11-01  17180\n",
       "107 1968-12-01  14577"
      ]
     },
     "execution_count": 57,
     "metadata": {},
     "output_type": "execute_result"
    }
   ],
   "source": [
    "carSales.tail()"
   ]
  },
  {
   "cell_type": "code",
   "execution_count": 58,
   "id": "83cf90aa",
   "metadata": {},
   "outputs": [],
   "source": [
    "from sklearn.metrics import mean_absolute_error"
   ]
  },
  {
   "cell_type": "code",
   "execution_count": 59,
   "id": "2d04bc30",
   "metadata": {},
   "outputs": [],
   "source": [
    "y_true = carSales['y'][-12:].values"
   ]
  },
  {
   "cell_type": "code",
   "execution_count": 60,
   "id": "bae59d96",
   "metadata": {},
   "outputs": [
    {
     "name": "stderr",
     "output_type": "stream",
     "text": [
      "C:\\Users\\dsi224\\.conda\\envs\\pytorchenv\\lib\\site-packages\\fbprophet\\forecaster.py:891: FutureWarning: The frame.append method is deprecated and will be removed from pandas in a future version. Use pandas.concat instead.\n",
      "  components = components.append(new_comp)\n",
      "C:\\Users\\dsi224\\.conda\\envs\\pytorchenv\\lib\\site-packages\\fbprophet\\forecaster.py:891: FutureWarning: The frame.append method is deprecated and will be removed from pandas in a future version. Use pandas.concat instead.\n",
      "  components = components.append(new_comp)\n"
     ]
    }
   ],
   "source": [
    "# use the model to make a forecast\n",
    "forecast = model.predict(future)"
   ]
  },
  {
   "cell_type": "code",
   "execution_count": 61,
   "id": "e5f4f9a8",
   "metadata": {},
   "outputs": [],
   "source": [
    "y_pred = forecast['yhat'].values"
   ]
  },
  {
   "cell_type": "code",
   "execution_count": 62,
   "id": "ff8ba8bb",
   "metadata": {},
   "outputs": [],
   "source": [
    "mae = mean_absolute_error(y_true, y_pred)"
   ]
  },
  {
   "cell_type": "code",
   "execution_count": 66,
   "id": "a21e8cbb",
   "metadata": {},
   "outputs": [
    {
     "name": "stdout",
     "output_type": "stream",
     "text": [
      "Mean Absolute Error in forcasted data: 1370.695\n"
     ]
    }
   ],
   "source": [
    "print('Mean Absolute Error in forcasted data: %0.3f' %mae)"
   ]
  },
  {
   "cell_type": "code",
   "execution_count": 67,
   "id": "0ed85a7a",
   "metadata": {},
   "outputs": [
    {
     "data": {
      "image/png": "[encoded data removed]",
      "text/plain": [
       "<Figure size 432x288 with 1 Axes>"
      ]
     },
     "metadata": {
      "needs_background": "light"
     },
     "output_type": "display_data"
    }
   ],
   "source": [
    "plt.plot(y_true, label='Actual')\n",
    "plt.plot(y_pred, label='Predicted')\n",
    "plt.legend()\n",
    "plt.show()"
   ]
  }
 ],
 "metadata": {
  "kernelspec": {
   "display_name": "Python 3 (ipykernel)",
   "language": "python",
   "name": "python3"
  },
  "language_info": {
   "codemirror_mode": {
    "name": "ipython",
    "version": 3
   },
   "file_extension": ".py",
   "mimetype": "text/x-python",
   "name": "python",
   "nbconvert_exporter": "python",
   "pygments_lexer": "ipython3",
   "version": "3.8.0"
  }
 },
 "nbformat": 4,
 "nbformat_minor": 5
}
